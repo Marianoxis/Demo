{
 "cells": [
  {
   "cell_type": "code",
   "execution_count": null,
   "id": "73feabdb",
   "metadata": {},
   "outputs": [],
   "source": [
    "asdasd\n",
    "asdasd\n",
    "asd"
   ]
  }
 ],
 "metadata": {
  "kernelspec": {
   "display_name": "Python 3.8 (tensorflow)",
   "language": "python",
   "name": "tflow"
  },
  "language_info": {
   "name": ""
  }
 },
 "nbformat": 4,
 "nbformat_minor": 5
}
